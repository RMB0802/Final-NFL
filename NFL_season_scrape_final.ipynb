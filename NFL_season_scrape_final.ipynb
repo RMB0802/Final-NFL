{
 "cells": [
  {
   "cell_type": "code",
   "execution_count": 2,
   "metadata": {},
   "outputs": [],
   "source": [
    "from bs4 import BeautifulSoup\n",
    "import requests\n",
    "import pandas as pd\n",
    "import random\n",
    "import time\n",
    "from team_shuffle import team_season_shuffle\n",
    "from team_stats_page import team_scrape"
   ]
  },
  {
   "cell_type": "markdown",
   "metadata": {},
   "source": [
    "For this code to work, you must have 'team_shuffle.py' and 'team_stats_page' in your current folder.\n",
    "\n",
    "You can run the code for an individual year or modify to run  through a range of years, however, the server for the site has a request limit.\n",
    "\n",
    "Any teams that return an error will print the corresponding url. 2022 is used as an example because the Cin/Buf game was cancelled mid-game and the stats were zero'd out."
   ]
  },
  {
   "cell_type": "code",
   "execution_count": 4,
   "metadata": {},
   "outputs": [
    {
     "name": "stdout",
     "output_type": "stream",
     "text": [
      "Done extracting information for the Las Vegas Raiders. Waiting for 8 seconds before next request.\n",
      "Done extracting information for the Tennessee Titans. Waiting for 8 seconds before next request.\n",
      "Done extracting information for the Green Bay Packers. Waiting for 10 seconds before next request.\n",
      "Done extracting information for the Cleveland Browns. Waiting for 8 seconds before next request.\n",
      "Done extracting information for the Seattle Seahawks. Waiting for 4 seconds before next request.\n",
      "Done extracting information for the Pittsburgh Steelers. Waiting for 8 seconds before next request.\n",
      "Done extracting information for the Jacksonville Jaguars. Waiting for 8 seconds before next request.\n",
      "Done extracting information for the Philadelphia Eagles. Waiting for 6 seconds before next request.\n",
      "Done extracting information for the San Francisco 49ers. Waiting for 4 seconds before next request.\n",
      "Missing data from: https://www.pro-football-reference.com/teams/cin/2022.htm\n",
      "Done extracting information for the New York Jets. Waiting for 3 seconds before next request.\n",
      "Done extracting information for the Houston Texans. Waiting for 3 seconds before next request.\n",
      "Done extracting information for the Los Angeles Rams. Waiting for 11 seconds before next request.\n",
      "Done extracting information for the Minnesota Vikings. Waiting for 4 seconds before next request.\n",
      "Done extracting information for the Detroit Lions. Waiting for 5 seconds before next request.\n",
      "Done extracting information for the Kansas City Chiefs. Waiting for 11 seconds before next request.\n",
      "Done extracting information for the Baltimore Ravens. Waiting for 6 seconds before next request.\n",
      "Done extracting information for the Indianapolis Colts. Waiting for 3 seconds before next request.\n",
      "Done extracting information for the New Orleans Saints. Waiting for 11 seconds before next request.\n",
      "Done extracting information for the Atlanta Falcons. Waiting for 3 seconds before next request.\n",
      "Done extracting information for the Chicago Bears. Waiting for 11 seconds before next request.\n",
      "Done extracting information for the Washington Commanders. Waiting for 3 seconds before next request.\n",
      "Done extracting information for the Denver Broncos. Waiting for 5 seconds before next request.\n",
      "Done extracting information for the Tampa Bay Buccaneers. Waiting for 9 seconds before next request.\n",
      "Done extracting information for the Carolina Panthers. Waiting for 2 seconds before next request.\n",
      "Done extracting information for the New England Patriots. Waiting for 4 seconds before next request.\n",
      "Done extracting information for the Dallas Cowboys. Waiting for 5 seconds before next request.\n",
      "Done extracting information for the Arizona Cardinals. Waiting for 10 seconds before next request.\n",
      "Done extracting information for the Miami Dolphins. Waiting for 8 seconds before next request.\n",
      "Missing data from: https://www.pro-football-reference.com/teams/buf/2022.htm\n",
      "Done extracting information for the New York Giants. Waiting for 5 seconds before next request.\n",
      "Done extracting information for the Los Angeles Chargers. Waiting for 9 seconds before next request.\n"
     ]
    }
   ],
   "source": [
    "year = 2022\n",
    "dict_stats_by_team = dict()\n",
    "dict_ranks_by_team = dict()\n",
    "dict_coaches_by_team = dict()\n",
    "dict_stats_by_team_in_games = dict()\n",
    "url_df = team_season_shuffle(year)\n",
    "\n",
    "for url in url_df:\n",
    "    try: \n",
    "        team_scrape(url, dict_stats_by_team, dict_ranks_by_team, dict_coaches_by_team, dict_stats_by_team_in_games, year)\n",
    "    except:\n",
    "        print(f'Missing data from: {url}')\n",
    "        continue\n",
    "\n",
    "stats_df = pd.DataFrame.from_dict(dict_stats_by_team, orient='index')\n",
    "ranks_df = pd.DataFrame.from_dict(dict_ranks_by_team, orient='index')\n",
    "coaches_df = pd.DataFrame.from_dict(dict_coaches_by_team, orient='index')\n",
    "team_games_df = pd.DataFrame.from_dict(dict_stats_by_team_in_games, orient='index')\n",
    "\n",
    "stats_df.to_excel(str(year)+'_team_stats.xlsx')\n",
    "ranks_df.to_excel(str(year)+'_team_ranks.xlsx')\n",
    "coaches_df.to_excel(str(year)+'_team_coaches.xlsx')\n",
    "team_games_df.to_excel(str(year)+'_team_games.xlsx')"
   ]
  }
 ],
 "metadata": {
  "kernelspec": {
   "display_name": "base",
   "language": "python",
   "name": "python3"
  },
  "language_info": {
   "codemirror_mode": {
    "name": "ipython",
    "version": 3
   },
   "file_extension": ".py",
   "mimetype": "text/x-python",
   "name": "python",
   "nbconvert_exporter": "python",
   "pygments_lexer": "ipython3",
   "version": "3.11.8"
  }
 },
 "nbformat": 4,
 "nbformat_minor": 2
}
